{
 "cells": [
  {
   "cell_type": "markdown",
   "metadata": {
    "colab_type": "text",
    "id": "By19UtzYwazE"
   },
   "source": [
    "## Task 1 - Virtual Environment"
   ]
  },
  {
   "cell_type": "markdown",
   "metadata": {
    "colab_type": "text",
    "id": "zTX822IVuttu"
   },
   "source": [
    "#### 1.1 Change to a Free GPU Runtime"
   ]
  },
  {
   "cell_type": "code",
   "execution_count": 0,
   "metadata": {
    "colab": {},
    "colab_type": "code",
    "id": "RAf8lGAiuAju"
   },
   "outputs": [],
   "source": [
    "# TASK 1.1: Check if you are currently using the GPU in Colab\n",
    "\n",
    "import tensorflow as tf\n",
    "tf.test.gpu_device_name()"
   ]
  },
  {
   "cell_type": "markdown",
   "metadata": {
    "colab_type": "text",
    "id": "o_F0tXI8u2kd"
   },
   "source": [
    "#### TASK 1.2: Mount Google Drive"
   ]
  },
  {
   "cell_type": "code",
   "execution_count": 0,
   "metadata": {
    "colab": {},
    "colab_type": "code",
    "id": "OQyoov2DMOOZ"
   },
   "outputs": [],
   "source": [
    "# Task: 1.2.1 Install google-drive-ocamlfuse\n",
    "\n",
    "!apt-get install -y -qq software-properties-common python-software-properties module-init-tools\n",
    "!add-apt-repository -y ppa:alessandro-strada/ppa 2>&1 > /dev/null\n",
    "!apt-get update -qq 2>&1 > /dev/null\n",
    "!apt-get -y install -qq google-drive-ocamlfuse fuse"
   ]
  },
  {
   "cell_type": "code",
   "execution_count": 0,
   "metadata": {
    "colab": {},
    "colab_type": "code",
    "id": "QZXW8TM52Hxh"
   },
   "outputs": [],
   "source": [
    "# Task: 1.2.2 Authenticate and get credentials\n",
    "\n",
    "from google.colab import auth\n",
    "auth.authenticate_user()\n",
    "from oauth2client.client import GoogleCredentials\n",
    "creds = GoogleCredentials.get_application_default()\n",
    "\n",
    "import getpass\n",
    "!google-drive-ocamlfuse -headless -id={creds.client_id} -secret={creds.client_secret} < /dev/null 2>&1 | grep URL\n",
    "vcode = getpass.getpass()\n",
    "!echo {vcode} | google-drive-ocamlfuse -headless -id={creds.client_id} -secret={creds.client_secret}"
   ]
  },
  {
   "cell_type": "code",
   "execution_count": 0,
   "metadata": {
    "colab": {},
    "colab_type": "code",
    "id": "7PiBzegJ2H-e"
   },
   "outputs": [],
   "source": [
    "# TASK 1.2.3: Mount Google Drive in local Colab VM\n",
    "\n",
    "!mkdir -p drive\n",
    "!google-drive-ocamlfuse drive\n",
    "!ls"
   ]
  },
  {
   "cell_type": "code",
   "execution_count": 0,
   "metadata": {
    "colab": {},
    "colab_type": "code",
    "id": "vZF9fpRLs1eC"
   },
   "outputs": [],
   "source": [
    "!ls drive"
   ]
  },
  {
   "cell_type": "code",
   "execution_count": 0,
   "metadata": {
    "colab": {},
    "colab_type": "code",
    "id": "8S5dO5eGv-tN"
   },
   "outputs": [],
   "source": [
    "!ls drive/NTUOSS-ImageRecognitionWorkshop"
   ]
  },
  {
   "cell_type": "code",
   "execution_count": 0,
   "metadata": {
    "colab": {},
    "colab_type": "code",
    "id": "21qRDQL64UOv"
   },
   "outputs": [],
   "source": [
    "!ls drive/NTUOSS-ImageRecognitionWorkshop-Data"
   ]
  },
  {
   "cell_type": "markdown",
   "metadata": {
    "colab_type": "text",
    "id": "rEg30T2jxiQ4"
   },
   "source": [
    "## Task 2 - Preprocess Images"
   ]
  },
  {
   "cell_type": "markdown",
   "metadata": {
    "colab_type": "text",
    "id": "SISgbu0P9Kod"
   },
   "source": [
    "#### 2.1 Configure Image Augmentation"
   ]
  },
  {
   "cell_type": "code",
   "execution_count": 0,
   "metadata": {
    "colab": {},
    "colab_type": "code",
    "id": "o4IioH2QOwww"
   },
   "outputs": [],
   "source": [
    "# TASK 2.1 : Add augmentation configuration for the data generator of train data only\n",
    "\n",
    "from keras.preprocessing.image import ImageDataGenerator\n",
    "\n",
    "datagen_train =  ImageDataGenerator(\n",
    "    rescale = 1. / 255,\n",
    "    rotation_range = 30,\n",
    "    width_shift_range = 0.2,\n",
    "    height_shift_range = 0.2,\n",
    "    zoom_range = 0.2,\n",
    "    horizontal_flip = True)\n",
    "datagen_val = ImageDataGenerator(\n",
    "    rescale = 1. / 255)"
   ]
  },
  {
   "cell_type": "markdown",
   "metadata": {
    "colab_type": "text",
    "id": "6MaCq_5m9MT0"
   },
   "source": [
    "#### 2.2 Generate Image Data from Directory"
   ]
  },
  {
   "cell_type": "code",
   "execution_count": 0,
   "metadata": {
    "colab": {},
    "colab_type": "code",
    "id": "MBINoSpOtWw5"
   },
   "outputs": [],
   "source": [
    "# TASK 2.2.1 : Generate Image Data from Directory and Set parameter\n",
    "\n",
    "train_data = datagen_train.flow_from_directory(\n",
    "    directory = './drive/NTUOSS-ImageRecognitionWorkshop-Data/train',\n",
    "    target_size = (150, 150),\n",
    "    class_mode = 'binary',\n",
    "    shuffle = True,\n",
    "    batch_size = 50)\n",
    "validation_data = datagen_val.flow_from_directory(\n",
    "    directory = './drive/NTUOSS-ImageRecognitionWorkshop-Data/validation',\n",
    "    target_size = (150, 150),\n",
    "    class_mode = 'binary',\n",
    "    shuffle = True,\n",
    "    batch_size = 50)"
   ]
  },
  {
   "cell_type": "code",
   "execution_count": 0,
   "metadata": {
    "colab": {},
    "colab_type": "code",
    "id": "zJHsfDslpopi"
   },
   "outputs": [],
   "source": [
    "# TASK 2.2.2 : Check class indices\n",
    "print('Class Indices : {}'.format(train_data.class_indices))"
   ]
  },
  {
   "cell_type": "markdown",
   "metadata": {
    "colab_type": "text",
    "id": "WxXgTJL-wd7o"
   },
   "source": [
    "## Task 3 - Build Basic Model"
   ]
  },
  {
   "cell_type": "markdown",
   "metadata": {
    "colab_type": "text",
    "id": "KIe4_MAPCVjk"
   },
   "source": [
    "#### 3.1 Set up backend and Import libraries"
   ]
  },
  {
   "cell_type": "code",
   "execution_count": 0,
   "metadata": {
    "colab": {},
    "colab_type": "code",
    "id": "pYjQjeIPwkix"
   },
   "outputs": [],
   "source": [
    "# TASK 3.1.1 Configure backend\n",
    "\n",
    "from keras import backend as K\n",
    "K.set_image_dim_ordering('tf') #channel last\n",
    "K.set_image_data_format('channels_last')"
   ]
  },
  {
   "cell_type": "code",
   "execution_count": 0,
   "metadata": {
    "colab": {},
    "colab_type": "code",
    "id": "2f-NIQHlB9mt"
   },
   "outputs": [],
   "source": [
    "# TASK 3.1.2 Import the Keras libraries and packages\n",
    "\n",
    "from keras.models import Sequential\n",
    "from keras.layers import Conv2D, MaxPooling2D, Flatten, Dense"
   ]
  },
  {
   "cell_type": "markdown",
   "metadata": {
    "colab_type": "text",
    "id": "4fenCQMkCdrX"
   },
   "source": [
    "#### 3.2 Construct Model"
   ]
  },
  {
   "cell_type": "code",
   "execution_count": 0,
   "metadata": {
    "colab": {},
    "colab_type": "code",
    "id": "4UJKpPNRvfW1"
   },
   "outputs": [],
   "source": [
    "# TASK 3.2.1 Initialize Neural Network Model\n",
    "model = Sequential()\n",
    "\n",
    "# TASK 3.2.2 Create first set of CONV -> RELU -> POOL layers\n",
    "model.add(Conv2D(32, (3, 3), activation='relu', input_shape=(150, 150, 3))) # output shape = (148, 148, 32)\n",
    "model.add(MaxPooling2D(pool_size=(2, 2))) # output shape = (74, 74, 32)\n",
    "\n",
    "# TASK 3.2.3 Create second set of CONV -> RELU -> POOL layers\n",
    "model.add(Conv2D(64, (3, 3), activation='relu')) # output shape = (72, 72, 64)\n",
    "model.add(MaxPooling2D(pool_size=(2, 2))) # output shape = (36, 36, 64)\n",
    "\n",
    "# TASK 3.2.4 Create third set of CONV -> RELU -> POOL layers\n",
    "model.add(Conv2D(64, (3, 3), activation='relu')) # output shape = (34, 34, 64)\n",
    "model.add(MaxPooling2D(pool_size=(2, 2))) # output shape = (17, 17, 64)\n",
    "\n",
    "# TASK 3.2.5 Convert the 3D feature maps to 1D feature vectors\n",
    "model.add(Flatten()) # output shape = (18496,)\n",
    "\n",
    "# TASK 3.2.6 Add the connection layer\n",
    "model.add(Dense(units = 256, activation='relu')) # output shape = (256,)\n",
    "\n",
    "# TASK 3.2.7 Add the output layer\n",
    "model.add(Dense(units = 1, activation = 'sigmoid')) # output shape = (1,)\n",
    "\n",
    "# TASK 3.2.8 Compile the model\n",
    "model.compile(loss = 'binary_crossentropy', optimizer = 'rmsprop', metrics = ['accuracy'])"
   ]
  },
  {
   "cell_type": "markdown",
   "metadata": {
    "colab_type": "text",
    "id": "1SDqr431Clf5"
   },
   "source": [
    "#### 3.3 Check Model"
   ]
  },
  {
   "cell_type": "code",
   "execution_count": 0,
   "metadata": {
    "colab": {},
    "colab_type": "code",
    "id": "EZ9rQMfg05Sd"
   },
   "outputs": [],
   "source": [
    "# TASK 3.3 Check the model structure.\n",
    "model.summary()"
   ]
  },
  {
   "cell_type": "markdown",
   "metadata": {
    "colab_type": "text",
    "id": "Cj9lVdrLyJF0"
   },
   "source": [
    "## Task 4 - Train Model\n",
    "\n"
   ]
  },
  {
   "cell_type": "code",
   "execution_count": 0,
   "metadata": {
    "colab": {},
    "colab_type": "code",
    "id": "QpIz-RCbO4Ok"
   },
   "outputs": [],
   "source": [
    "# TASK 4: Train Model [WARNING: It took me 84.95 min]\n",
    "import time\n",
    "train_start_time = time.time()\n",
    "\n",
    "from keras.callbacks import EarlyStopping\n",
    "model.fit_generator(\n",
    "    generator = train_data,\n",
    "    epochs = 25,\n",
    "    callbacks = [EarlyStopping(monitor='val_loss', patience=2, verbose=0)],\n",
    "    validation_data = validation_data)\n",
    "model.save('./drive/NTUOSS-ImageRecognitionWorkshop/cnn_model_basic.h5') # save model\n",
    "print(\"It takes {:.2f} min to train the model\".format((time.time() - train_start_time)/60 ))"
   ]
  },
  {
   "cell_type": "markdown",
   "metadata": {
    "colab_type": "text",
    "id": "DPBu5hvGyL-E"
   },
   "source": [
    "## Task 5 - Test Basic Model"
   ]
  },
  {
   "cell_type": "markdown",
   "metadata": {
    "colab_type": "text",
    "id": "Lj8ktP3JAjPC"
   },
   "source": [
    "#### 5.1 Load Model"
   ]
  },
  {
   "cell_type": "code",
   "execution_count": 0,
   "metadata": {
    "colab": {},
    "colab_type": "code",
    "id": "8rukxUoDzI4G"
   },
   "outputs": [],
   "source": [
    "# Skip this if you just finished training the model and the model exists in the working environment\n",
    "\n",
    "# TASK 5.1: Load trained model\n",
    "from keras.models import load_model\n",
    "model_basic = load_model('./drive/NTUOSS-ImageRecognitionWorkshop-Data/model/cnn_model_basic.h5')\n",
    "# model_basic = load_model('./drive/NTUOSS-ImageRecognitionWorkshop/cnn_model_basic.h5') # To load the model trained by you"
   ]
  },
  {
   "cell_type": "markdown",
   "metadata": {
    "colab_type": "text",
    "id": "giaMRCb_Fser"
   },
   "source": [
    "#### 5.2 Generate Test Image Data from Directory"
   ]
  },
  {
   "cell_type": "code",
   "execution_count": 0,
   "metadata": {
    "colab": {},
    "colab_type": "code",
    "id": "3TBZYd0SGJN8"
   },
   "outputs": [],
   "source": [
    "# TASK 5.2.1: Set up data generator for test data\n",
    "from keras.preprocessing.image import ImageDataGenerator\n",
    "datagen_test = ImageDataGenerator(rescale=1. / 255)\n",
    "\n",
    "test_data = datagen_test.flow_from_directory (\n",
    "    directory = './drive/NTUOSS-ImageRecognitionWorkshop-Data/test',\n",
    "    target_size = (150, 150),\n",
    "    class_mode = None,\n",
    "    shuffle = False,\n",
    "    batch_size = 200)\n"
   ]
  },
  {
   "cell_type": "code",
   "execution_count": 0,
   "metadata": {
    "colab": {},
    "colab_type": "code",
    "id": "iL810zBBzWfH"
   },
   "outputs": [],
   "source": [
    "# TASK 5.2.2: Check test generator\n",
    "print(test_data.class_indices)\n",
    "print(test_data.filenames)"
   ]
  },
  {
   "cell_type": "markdown",
   "metadata": {
    "colab_type": "text",
    "id": "Qx_9zvZTAr46"
   },
   "source": [
    "#### 5.3 Make Prediction"
   ]
  },
  {
   "cell_type": "code",
   "execution_count": 0,
   "metadata": {
    "colab": {},
    "colab_type": "code",
    "id": "KE69ET-VWGAV"
   },
   "outputs": [],
   "source": [
    "# TASK 5.3.1: Use model to yield probability prediction for test data\n",
    "probabilities = model_basic.predict_generator(test_data)\n",
    "print(probabilities)"
   ]
  },
  {
   "cell_type": "code",
   "execution_count": 0,
   "metadata": {
    "colab": {},
    "colab_type": "code",
    "id": "xqUJPM_YWZb4"
   },
   "outputs": [],
   "source": [
    "# TASK 5.3.2: Process probabilities to get prediction result\n",
    "y_pred = [1 if prob > 0.5 else 0 for prob in probabilities]\n",
    "print(y_pred)"
   ]
  },
  {
   "cell_type": "code",
   "execution_count": 0,
   "metadata": {
    "colab": {},
    "colab_type": "code",
    "id": "FmQub24yzMLa"
   },
   "outputs": [],
   "source": [
    "# TASK 5.3.3: Prepare actual result using filenames\n",
    "y_true = [0 if 'cat' in filename else 1 for filename in test_data.filenames]\n",
    "print(y_true)\n"
   ]
  },
  {
   "cell_type": "code",
   "execution_count": 0,
   "metadata": {
    "colab": {},
    "colab_type": "code",
    "id": "fkG3blaecpZ5"
   },
   "outputs": [],
   "source": [
    "# TASK 5.3.4: Calculate accuracy score\n",
    "from sklearn.metrics import accuracy_score\n",
    "print(accuracy_score(y_true, y_pred))"
   ]
  },
  {
   "cell_type": "code",
   "execution_count": 0,
   "metadata": {
    "colab": {},
    "colab_type": "code",
    "id": "WEyJFFCwxFEC"
   },
   "outputs": [],
   "source": [
    "# TASK 5.3.5: Generate a report\n",
    "import pandas as pd\n",
    "pd.crosstab(pd.Series(y_true), pd.Series(y_pred), rownames = ['True'], colnames = ['Pred'], margins = True)"
   ]
  },
  {
   "cell_type": "markdown",
   "metadata": {
    "colab_type": "text",
    "id": "fyuJleJ4yR3s"
   },
   "source": [
    "## Task 6 - Recognize Image with Basic Model"
   ]
  },
  {
   "cell_type": "markdown",
   "metadata": {
    "colab_type": "text",
    "id": "qHcgotqzEVrS"
   },
   "source": [
    "#### 6.1 Useful Functions"
   ]
  },
  {
   "cell_type": "code",
   "execution_count": 0,
   "metadata": {
    "colab": {},
    "colab_type": "code",
    "id": "TallyneuQ8hJ"
   },
   "outputs": [],
   "source": [
    "# TASK 6.1.1: Define a function for reading image from url\n",
    "def read_image_from_url(url):\n",
    "    try:\n",
    "        import requests, io\n",
    "        from PIL import Image\n",
    "        r = requests.get(url, timeout=15)\n",
    "        img = Image.open(io.BytesIO(r.content))\n",
    "        return img\n",
    "    except:\n",
    "        print(\"{:<10} Cannot find image from {}\".format('[ERROR]', url))\n",
    "        exit(1)"
   ]
  },
  {
   "cell_type": "code",
   "execution_count": 0,
   "metadata": {
    "colab": {},
    "colab_type": "code",
    "id": "g9J666-uRMnZ"
   },
   "outputs": [],
   "source": [
    "# TASK 6.1.2: Define a function for preprocessing image\n",
    "def preprocess_image(img, target_size):\n",
    "    from PIL import Image\n",
    "    import numpy as np\n",
    "    from keras.preprocessing.image import img_to_array\n",
    "    img = img.resize(target_size,Image.ANTIALIAS)\n",
    "    img = img_to_array(img)\n",
    "    img = np.expand_dims(img, axis=0)\n",
    "    img = img.astype('float32')\n",
    "    img /= 255\n",
    "    return img\n"
   ]
  },
  {
   "cell_type": "code",
   "execution_count": 0,
   "metadata": {
    "colab": {},
    "colab_type": "code",
    "id": "GPLE8eEkRUIv"
   },
   "outputs": [],
   "source": [
    "# TASK 6.1.3: Define a function for processing result\n",
    "def process_result(prob):\n",
    "    return 'dog' if prob > 0.5 else 'cat'"
   ]
  },
  {
   "cell_type": "markdown",
   "metadata": {
    "colab_type": "text",
    "id": "02OSLunFE24v"
   },
   "source": [
    "#### 6.2 Make Prediction"
   ]
  },
  {
   "cell_type": "code",
   "execution_count": 0,
   "metadata": {
    "colab": {},
    "colab_type": "code",
    "id": "1NwPMVjUE42C"
   },
   "outputs": [],
   "source": [
    "# TASK 6.2: Read image, Preprocess image, and Make prediction\n",
    "image = read_image_from_url('https://www.readersdigest.ca/wp-content/uploads/2011/01/4-ways-cheer-up-depressed-cat.jpg') # replace with any image url\n",
    "image = preprocess_image(image, (150, 150))\n",
    "prob = model_basic.predict(image)\n",
    "if prob > 0.5:\n",
    "    print('Probability: ' + str(prob))\n",
    "else:\n",
    "    print('Probability: ' + str(1 - prob))\n",
    "print('Class: ' + process_result(prob))"
   ]
  },
  {
   "cell_type": "markdown",
   "metadata": {
    "colab_type": "text",
    "id": "4_kCWMMd13Bi"
   },
   "source": [
    "## Task 7 - Build on Top of Pretrained Model"
   ]
  },
  {
   "cell_type": "markdown",
   "metadata": {
    "colab_type": "text",
    "id": "In-h6soZG2xE"
   },
   "source": [
    "#### 7.1 Set up backend and Import libraries"
   ]
  },
  {
   "cell_type": "code",
   "execution_count": 0,
   "metadata": {
    "colab": {},
    "colab_type": "code",
    "id": "OJOcHFoeHKYz"
   },
   "outputs": [],
   "source": [
    "# TASK 7.1.1 Configure backend\n",
    "from keras import backend as K\n",
    "K.set_image_dim_ordering('tf') #channel last\n",
    "K.set_image_data_format('channels_last')"
   ]
  },
  {
   "cell_type": "code",
   "execution_count": 0,
   "metadata": {
    "colab": {},
    "colab_type": "code",
    "id": "BqzZIO--12WY"
   },
   "outputs": [],
   "source": [
    "# TASK 7.1.2 Import the Keras libraries and packages\n",
    "from keras.applications import VGG16\n",
    "from keras.layers import Dense, Dropout, Flatten\n",
    "from keras.models import Model"
   ]
  },
  {
   "cell_type": "markdown",
   "metadata": {
    "colab_type": "text",
    "id": "1f7y2C10HTl5"
   },
   "source": [
    "#### 7.2 Construct Model"
   ]
  },
  {
   "cell_type": "code",
   "execution_count": 0,
   "metadata": {
    "colab": {},
    "colab_type": "code",
    "id": "xRpXPLtJHStr"
   },
   "outputs": [],
   "source": [
    "# TASK 7.2.1: Load base model\n",
    "base_model = VGG16(include_top = False, weights = 'imagenet', input_shape = (150, 150, 3))"
   ]
  },
  {
   "cell_type": "code",
   "execution_count": 0,
   "metadata": {
    "colab": {},
    "colab_type": "code",
    "id": "aR0-pmU1HSyF"
   },
   "outputs": [],
   "source": [
    "# TASK 7.2.2: Add new layers\n",
    "x = base_model.output\n",
    "x = Flatten()(x)\n",
    "x = Dense(256, activation='relu')(x) #new FC layer, random init\n",
    "x = Dropout(0.4)(x)\n",
    "predictions = Dense(1, activation='sigmoid')(x)\n",
    "model = Model(inputs=base_model.input, outputs=predictions)"
   ]
  },
  {
   "cell_type": "code",
   "execution_count": 0,
   "metadata": {
    "colab": {},
    "colab_type": "code",
    "id": "ro1AgJ_H2Gr4"
   },
   "outputs": [],
   "source": [
    "# TASK 7.2.3: Setup trainable layer\n",
    "for layer in base_model.layers:\n",
    "    layer.trainable = False\n",
    "print(\"{:<10} Pretrained model layers: {}\".format('[INFO]', len(base_model.layers)))\n",
    "print(\"{:<10} Total number of layers : {}\".format('[INFO]', len(model.layers)))\n"
   ]
  },
  {
   "cell_type": "code",
   "execution_count": 0,
   "metadata": {
    "colab": {},
    "colab_type": "code",
    "id": "tq4FV15WWxhK"
   },
   "outputs": [],
   "source": [
    "# TASK 7.2.4: Compile model\n",
    "model.compile(loss = 'binary_crossentropy', optimizer = 'rmsprop', metrics = ['accuracy'])"
   ]
  },
  {
   "cell_type": "markdown",
   "metadata": {
    "colab_type": "text",
    "id": "CnD5GBxsHllI"
   },
   "source": [
    "#### 7.3 Check Model"
   ]
  },
  {
   "cell_type": "code",
   "execution_count": 0,
   "metadata": {
    "colab": {},
    "colab_type": "code",
    "id": "in98VSAI2FVE"
   },
   "outputs": [],
   "source": [
    "# TASK 7.3: Check Model\n",
    "model.summary()"
   ]
  },
  {
   "cell_type": "markdown",
   "metadata": {
    "colab_type": "text",
    "id": "3uix85o8197z"
   },
   "source": [
    "## Task 8 - Train Advanced Model"
   ]
  },
  {
   "cell_type": "code",
   "execution_count": 0,
   "metadata": {
    "colab": {},
    "colab_type": "code",
    "id": "iKCZnXvV19Y_"
   },
   "outputs": [],
   "source": [
    "# TASK 8: Train advanced model.\n",
    "\n",
    "import time\n",
    "train_start_time = time.time()\n",
    "\n",
    "from keras.callbacks import EarlyStopping\n",
    "\n",
    "model.fit_generator(\n",
    "    train_data,\n",
    "    epochs= 25 ,\n",
    "    callbacks = [EarlyStopping(monitor='val_loss', patience=2, verbose=0)],\n",
    "    validation_data = validation_data)\n",
    "model.save('./drive/NTUOSS-ImageRecognitionWorkshop/cnn_model_advanced.h5')\n",
    "\n",
    "print(\"It takes {:.2f} min to train the model\".format((time.time() - train_start_time)/60 ))"
   ]
  },
  {
   "cell_type": "markdown",
   "metadata": {
    "colab_type": "text",
    "id": "0wEp41uwPbuh"
   },
   "source": [
    "## Task 9 - Test Advanced Model"
   ]
  },
  {
   "cell_type": "markdown",
   "metadata": {
    "colab_type": "text",
    "id": "cgKnKTY2J4YT"
   },
   "source": [
    "#### 9.1 Load Model"
   ]
  },
  {
   "cell_type": "code",
   "execution_count": 0,
   "metadata": {
    "colab": {},
    "colab_type": "code",
    "id": "VZRccU5qQZ4R"
   },
   "outputs": [],
   "source": [
    "# Skip this if you just finished training the model and the model exists in the working environment\n",
    "\n",
    "# TASK 5.1: Load trained model\n",
    "from keras.models import load_model\n",
    "model_advanced = load_model('./drive/NTUOSS-ImageRecognitionWorkshop-Data/model/cnn_model_advanced.h5')\n",
    "# model_basic = load_model('./drive/NTUOSS-ImageRecognitionWorkshop/cnn_model_advanced.h5') # To load the model trained by you"
   ]
  },
  {
   "cell_type": "markdown",
   "metadata": {
    "colab_type": "text",
    "id": "k8AHTgywQQGw"
   },
   "source": [
    "#### 9.2 Generate Test Image Data from Directory"
   ]
  },
  {
   "cell_type": "code",
   "execution_count": 0,
   "metadata": {
    "colab": {},
    "colab_type": "code",
    "id": "uNTicKlbPbik"
   },
   "outputs": [],
   "source": [
    "# TASK 9.2.1 : Set up data generator for test data\n",
    "from keras.preprocessing.image import ImageDataGenerator\n",
    "datagen_test = ImageDataGenerator(rescale=1. / 255)\n",
    "\n",
    "test_data = datagen_test.flow_from_directory (\n",
    "    directory = './drive/NTUOSS-ImageRecognitionWorkshop-Data/test',\n",
    "    target_size = (150, 150),\n",
    "    class_mode = None,\n",
    "    shuffle = False,\n",
    "    batch_size = 200)  "
   ]
  },
  {
   "cell_type": "code",
   "execution_count": 0,
   "metadata": {
    "colab": {},
    "colab_type": "code",
    "id": "BsFLXWqbQXof"
   },
   "outputs": [],
   "source": [
    "# TASK 9.2.2: Check test data generator\n",
    "print(test_data.class_indices)\n",
    "print(test_data.filenames)"
   ]
  },
  {
   "cell_type": "markdown",
   "metadata": {
    "colab_type": "text",
    "id": "iozg9HnSLjSE"
   },
   "source": [
    "#### 9.3 Make Prediction"
   ]
  },
  {
   "cell_type": "code",
   "execution_count": 0,
   "metadata": {
    "colab": {},
    "colab_type": "code",
    "id": "yQ_qFIDdQdMK"
   },
   "outputs": [],
   "source": [
    "# TASK 9.3.1: Use model to yield probability prediction for test data\n",
    "probabilities = model_advanced.predict_generator(test_data)\n",
    "print(probabilities)"
   ]
  },
  {
   "cell_type": "code",
   "execution_count": 0,
   "metadata": {
    "colab": {},
    "colab_type": "code",
    "id": "Va9amF1aQfho"
   },
   "outputs": [],
   "source": [
    "# TASK 9.3.2: Process probabilities to get prediction result\n",
    "y_pred = [1 if prob > 0.5 else 0 for prob in probabilities]\n",
    "print(y_pred)"
   ]
  },
  {
   "cell_type": "code",
   "execution_count": 0,
   "metadata": {
    "colab": {},
    "colab_type": "code",
    "id": "iihdyNdTQiQs"
   },
   "outputs": [],
   "source": [
    "# TASK 9.3.3: Prepare actual result using folder name in filenames\n",
    "y_true = [0 if 'cat' in filename else 1 for filename in test_data.filenames]\n",
    "print(y_true)"
   ]
  },
  {
   "cell_type": "code",
   "execution_count": 0,
   "metadata": {
    "colab": {},
    "colab_type": "code",
    "id": "7rrEeSnHcb5b"
   },
   "outputs": [],
   "source": [
    "# TASK 9.3.4: Calculate accuracy score\n",
    "from sklearn.metrics import accuracy_score\n",
    "print(accuracy_score(y_true, y_pred))"
   ]
  },
  {
   "cell_type": "code",
   "execution_count": 0,
   "metadata": {
    "colab": {},
    "colab_type": "code",
    "id": "S40706WxQlFJ"
   },
   "outputs": [],
   "source": [
    "# TASK 9.3.5: Generate a report\n",
    "import pandas as pd\n",
    "pd.crosstab(pd.Series(y_true), pd.Series(y_pred), rownames = ['True'], colnames = ['Pred'], margins = True)"
   ]
  },
  {
   "cell_type": "markdown",
   "metadata": {
    "colab_type": "text",
    "id": "m0dHPVZbQcOg"
   },
   "source": [
    "## Task 10 - Recognize Image with Advanced Model"
   ]
  },
  {
   "cell_type": "markdown",
   "metadata": {
    "colab_type": "text",
    "id": "dNtuPeelDoU0"
   },
   "source": [
    "#### 10.1 Make Prediction"
   ]
  },
  {
   "cell_type": "code",
   "execution_count": 0,
   "metadata": {
    "colab": {},
    "colab_type": "code",
    "id": "sgKwEudARcPe"
   },
   "outputs": [],
   "source": [
    "# TASK 10.1: Read image, Preprocess image, and Make prediction\n",
    "image = read_image_from_url('https://www.readersdigest.ca/wp-content/uploads/2011/01/4-ways-cheer-up-depressed-cat.jpg') # replace with any image url\n",
    "image = preprocess_image(image, (150, 150))\n",
    "prob = model_advanced.predict(image)\n",
    "if prob > 0.5:\n",
    "    print('Probability: ' + str(prob))\n",
    "else:\n",
    "    print('Probability: ' + str(1 - prob))\n",
    "print('Class: ' + process_result(prob))"
   ]
  },
  {
   "cell_type": "code",
   "execution_count": 0,
   "metadata": {
    "colab": {},
    "colab_type": "code",
    "id": "FBYhx4JQIZGC"
   },
   "outputs": [],
   "source": [
    "# Restart Google Colab - Only run the line below when u mess up with the virtual machine\n",
    "# !kill -9 -1"
   ]
  }
 ],
 "metadata": {
  "accelerator": "GPU",
  "colab": {
   "collapsed_sections": [],
   "name": "completed_v2.ipynb",
   "provenance": [],
   "version": "0.3.2"
  },
  "kernelspec": {
   "display_name": "Python 3",
   "language": "python",
   "name": "python3"
  },
  "language_info": {
   "codemirror_mode": {
    "name": "ipython",
    "version": 3
   },
   "file_extension": ".py",
   "mimetype": "text/x-python",
   "name": "python",
   "nbconvert_exporter": "python",
   "pygments_lexer": "ipython3",
   "version": "3.6.5"
  }
 },
 "nbformat": 4,
 "nbformat_minor": 1
}
